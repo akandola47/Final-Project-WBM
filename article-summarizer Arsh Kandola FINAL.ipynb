{
 "cells": [
  {
   "cell_type": "markdown",
   "metadata": {},
   "source": [
    "# Web Mining and Applied NLP (44-620)\n",
    "\n",
    "## Final Project: Article Summarizer\n",
    "\n",
    "### Student Name: Arsh Kandola\n",
    "\n",
    "Perform the tasks described in the Markdown cells below.  When you have completed the assignment make sure your code cells have all been run (and have output beneath them) and ensure you have committed and pushed ALL of your changes to your assignment repository.\n",
    "\n",
    "You should bring in code from previous assignments to help you answer the questions below.\n",
    "\n",
    "Every question that requires you to write code will have a code cell underneath it; you may either write your entire solution in that cell or write it in a python file (`.py`), then import and run the appropriate code to answer the question."
   ]
  },
  {
   "cell_type": "code",
   "execution_count": 21,
   "metadata": {},
   "outputs": [
    {
     "name": "stdout",
     "output_type": "stream",
     "text": [
      "Package                       Version\n",
      "----------------------------- -----------\n",
      "absl-py                       2.0.0\n",
      "aiofiles                      22.1.0\n",
      "aiosqlite                     0.18.0\n",
      "anaconda-client               1.11.0\n",
      "anaconda-navigator            2.1.4\n",
      "annotated-types               0.5.0\n",
      "anyio                         3.6.2\n",
      "appnope                       0.1.3\n",
      "argon2-cffi                   21.3.0\n",
      "argon2-cffi-bindings          21.2.0\n",
      "arrow                         1.2.3\n",
      "asttokens                     2.2.1\n",
      "astunparse                    1.6.3\n",
      "async-lru                     2.0.4\n",
      "attrs                         22.1.0\n",
      "Babel                         2.11.0\n",
      "backcall                      0.2.0\n",
      "backports.functools-lru-cache 1.6.4\n",
      "backports.tempfile            1.0\n",
      "backports.weakref             1.0.post1\n",
      "beautifulsoup4                4.11.1\n",
      "black                         23.9.1\n",
      "bleach                        6.0.0\n",
      "blis                          0.7.11\n",
      "brotlipy                      0.7.0\n",
      "build                         1.0.3\n",
      "cachetools                    5.3.1\n",
      "catalogue                     2.0.10\n",
      "certifi                       2022.12.7\n",
      "cffi                          1.15.1\n",
      "chardet                       4.0.0\n",
      "charset-normalizer            2.0.4\n",
      "click                         8.0.4\n",
      "cloudpathlib                  0.15.1\n",
      "clyent                        1.2.2\n",
      "comm                          0.1.4\n",
      "conda                         23.1.0\n",
      "conda-build                   3.23.3\n",
      "conda-content-trust           0.1.3\n",
      "conda-package-handling        2.0.2\n",
      "conda_package_streaming       0.7.0\n",
      "conda-repo-cli                1.0.27\n",
      "conda-token                   0.4.0\n",
      "conda-verify                  3.4.2\n",
      "confection                    0.1.3\n",
      "contourpy                     1.1.0\n",
      "cryptography                  38.0.4\n",
      "cycler                        0.11.0\n",
      "cymem                         2.0.8\n",
      "debugpy                       1.6.6\n",
      "decorator                     5.1.1\n",
      "defusedxml                    0.7.1\n",
      "distlib                       0.3.7\n",
      "en-core-web-sm                3.7.1\n",
      "executing                     1.2.0\n",
      "fastjsonschema                2.16.2\n",
      "filelock                      3.12.4\n",
      "flatbuffers                   23.5.26\n",
      "fonttools                     4.42.1\n",
      "fqdn                          1.5.1\n",
      "future                        0.18.2\n",
      "gast                          0.5.4\n",
      "geographiclib                 2.0\n",
      "geopy                         2.4.0\n",
      "glob2                         0.7\n",
      "google-auth                   2.23.2\n",
      "google-auth-oauthlib          1.0.0\n",
      "google-pasta                  0.2.0\n",
      "grpcio                        1.59.0\n",
      "h5py                          3.9.0\n",
      "idna                          3.4\n",
      "imageio                       2.31.5\n",
      "importlib-metadata            6.0.0\n",
      "importlib-resources           6.0.1\n",
      "ipykernel                     6.25.2\n",
      "ipython                       8.10.0\n",
      "ipython-genutils              0.2.0\n",
      "ipywidgets                    8.1.1\n",
      "isoduration                   20.11.0\n",
      "jedi                          0.18.2\n",
      "Jinja2                        3.1.2\n",
      "joblib                        1.3.2\n",
      "json5                         0.9.11\n",
      "jsonpointer                   2.3\n",
      "jsonschema                    4.17.3\n",
      "jupyter                       1.0.0\n",
      "jupyter_client                8.0.3\n",
      "jupyter-console               6.6.3\n",
      "jupyter_core                  5.2.0\n",
      "jupyter-events                0.6.3\n",
      "jupyter-lsp                   2.2.0\n",
      "jupyter_server                2.7.3\n",
      "jupyter_server_fileid         0.8.0\n",
      "jupyter_server_terminals      0.4.4\n",
      "jupyter_server_ydoc           0.6.1\n",
      "jupyter-ydoc                  0.2.2\n",
      "jupyterlab                    4.0.6\n",
      "jupyterlab-pygments           0.2.2\n",
      "jupyterlab_server             2.19.0\n",
      "jupyterlab-widgets            3.0.9\n",
      "keras                         2.14.0\n",
      "kiwisolver                    1.4.5\n",
      "lab                           7.4\n",
      "langcodes                     3.3.0\n",
      "libarchive-c                  2.9\n",
      "libclang                      16.0.6\n",
      "Markdown                      3.4.4\n",
      "MarkupSafe                    2.1.1\n",
      "matplotlib                    3.8.0\n",
      "matplotlib-inline             0.1.6\n",
      "mistune                       2.0.5\n",
      "ml-dtypes                     0.2.0\n",
      "murmurhash                    1.0.10\n",
      "mypy-extensions               1.0.0\n",
      "navigator-updater             0.2.1\n",
      "nbclassic                     0.5.2\n",
      "nbclient                      0.7.2\n",
      "nbconvert                     7.2.9\n",
      "nbformat                      5.7.0\n",
      "nest-asyncio                  1.5.6\n",
      "nltk                          3.8.1\n",
      "notebook                      6.5.2\n",
      "notebook_shim                 0.2.2\n",
      "numpy                         1.22.4\n",
      "oauthlib                      3.2.2\n",
      "opt-einsum                    3.3.0\n",
      "overrides                     7.4.0\n",
      "packaging                     22.0\n",
      "pandas                        2.1.1\n",
      "pandocfilters                 1.5.0\n",
      "parso                         0.8.3\n",
      "pathlib                       1.0.1\n",
      "pathspec                      0.11.2\n",
      "pathy                         0.10.2\n",
      "pexpect                       4.8.0\n",
      "pickleshare                   0.7.5\n",
      "Pillow                        9.3.0\n",
      "pip                           24.0\n",
      "pkginfo                       1.8.3\n",
      "platformdirs                  3.11.0\n",
      "pluggy                        1.0.0\n",
      "ply                           3.11\n",
      "preshed                       3.0.9\n",
      "prometheus-client             0.16.0\n",
      "prompt-toolkit                3.0.37\n",
      "protobuf                      4.24.4\n",
      "psutil                        5.9.0\n",
      "ptyprocess                    0.7.0\n",
      "pure-eval                     0.2.2\n",
      "pyasn1                        0.5.0\n",
      "pyasn1-modules                0.3.0\n",
      "pycosat                       0.6.4\n",
      "pycparser                     2.21\n",
      "pydantic                      2.4.2\n",
      "pydantic_core                 2.10.1\n",
      "Pygments                      2.14.0\n",
      "PyJWT                         2.4.0\n",
      "pyOpenSSL                     22.0.0\n",
      "pyparsing                     3.0.9\n",
      "pyproject_hooks               1.0.0\n",
      "PyQt5-sip                     12.11.0\n",
      "pyrsistent                    0.18.0\n",
      "PySocks                       1.7.1\n",
      "python-dateutil               2.8.2\n",
      "python-json-logger            2.0.7\n",
      "pytz                          2022.7\n",
      "PyYAML                        6.0\n",
      "pyzmq                         25.0.0\n",
      "qtconsole                     5.4.4\n",
      "QtPy                          2.4.0\n",
      "regex                         2023.10.3\n",
      "requests                      2.28.1\n",
      "requests-oauthlib             1.3.1\n",
      "rfc3339-validator             0.1.4\n",
      "rfc3986-validator             0.1.1\n",
      "rsa                           4.9\n",
      "ruamel.yaml                   0.17.21\n",
      "ruamel.yaml.clib              0.2.6\n",
      "ruff                          0.0.290\n",
      "scikit-learn                  1.3.1\n",
      "scipy                         1.11.3\n",
      "seaborn                       0.13.0\n",
      "Send2Trash                    1.8.2\n",
      "setuptools                    69.5.1\n",
      "simplejson                    3.19.2\n",
      "sip                           6.6.2\n",
      "six                           1.16.0\n",
      "smart-open                    6.4.0\n",
      "sniffio                       1.3.0\n",
      "soupsieve                     2.3.2.post1\n",
      "spacy                         3.7.4\n",
      "spacy-legacy                  3.0.12\n",
      "spacy-loggers                 1.0.5\n",
      "spacytextblob                 4.0.0\n",
      "srsly                         2.4.8\n",
      "stack-data                    0.6.2\n",
      "tensorboard                   2.14.1\n",
      "tensorboard-data-server       0.7.1\n",
      "tensorflow                    2.14.0\n",
      "tensorflow-estimator          2.14.0\n",
      "tensorflow-io-gcs-filesystem  0.34.0\n",
      "termcolor                     2.3.0\n",
      "terminado                     0.17.1\n",
      "textblob                      0.15.3\n",
      "thinc                         8.2.3\n",
      "threadpoolctl                 3.2.0\n",
      "tinycss2                      1.2.1\n",
      "toml                          0.10.2\n",
      "tomli                         2.0.1\n",
      "toolz                         0.12.0\n",
      "tornado                       6.2\n",
      "tqdm                          4.64.1\n",
      "traitlets                     5.7.1\n",
      "txt2tags                      3.9\n",
      "typer                         0.9.0\n",
      "typing_extensions             4.7.1\n",
      "tzdata                        2023.3\n",
      "ujson                         5.4.0\n",
      "uri-template                  1.2.0\n",
      "urllib3                       1.26.14\n",
      "virtualenv                    20.25.1\n",
      "voila                         0.5.4\n",
      "wasabi                        1.1.2\n",
      "wcwidth                       0.2.6\n",
      "weasel                        0.3.2\n",
      "webcolors                     1.12\n",
      "webencodings                  0.5.1\n",
      "websocket-client              1.5.1\n",
      "websockets                    11.0.3\n",
      "Werkzeug                      3.0.0\n",
      "wheel                         0.43.0\n",
      "widgetsnbextension            4.0.9\n",
      "wrapt                         1.14.1\n",
      "y-py                          0.5.9\n",
      "ypy-websocket                 0.8.2\n",
      "zipp                          3.14.0\n",
      "zstandard                     0.19.0\n",
      "All prereqs installed.\n"
     ]
    }
   ],
   "source": [
    "import requests\n",
    "from bs4 import BeautifulSoup\n",
    "import pickle\n",
    "import spacy\n",
    "from spacytextblob.spacytextblob import SpacyTextBlob\n",
    "from textblob import TextBlob\n",
    "import numpy as np\n",
    "import pandas as pd\n",
    "import matplotlib.pyplot as plt\n",
    "!pip list\n",
    "print('All prereqs installed.')"
   ]
  },
  {
   "cell_type": "markdown",
   "metadata": {},
   "source": [
    "1. Find on the internet an article or blog post about a topic that interests you and you are able to get the text for using the technologies we have applied in the course.  Get the html for the article and store it in a file (which you must submit with your project)"
   ]
  },
  {
   "cell_type": "code",
   "execution_count": 22,
   "metadata": {},
   "outputs": [
    {
     "name": "stdout",
     "output_type": "stream",
     "text": [
      "atricle saved as 'HTML'\n"
     ]
    }
   ],
   "source": [
    "import requests \n",
    "\n",
    "url=\"https://www.simplilearn.com/data-science-and-ai-article\"\n",
    "\n",
    "response= requests.get(url)\n",
    "\n",
    "if response.status_code ==200:\n",
    "    html_content=response.text\n",
    "    \n",
    "    with open(\"article.html\",\"w\", encoding=\"utf-8\") as f:\n",
    "        f.write(html_content)\n",
    "        \n",
    "        print(\"atricle saved as 'HTML'\")\n",
    "else:\n",
    "        print(\"article failed.status code:\", response.status_code)\n",
    "\n"
   ]
  },
  {
   "cell_type": "markdown",
   "metadata": {},
   "source": [
    "2. Read in your article's html source from the file you created in question 1 and do sentiment analysis on the article/post's text (use `.get_text()`).  Print the polarity score with an appropriate label.  Additionally print the number of sentences in the original article (with an appropriate label)"
   ]
  },
  {
   "cell_type": "code",
   "execution_count": 23,
   "metadata": {},
   "outputs": [
    {
     "name": "stdout",
     "output_type": "stream",
     "text": [
      "Sentiment Polarity Score: 0.04349065749065751\n",
      "Number of Sentences: 189\n"
     ]
    }
   ],
   "source": [
    "from bs4 import BeautifulSoup\n",
    "\n",
    "with open(\"article.html\",\"r\",encoding=\"utf-8\") as file:\n",
    "    html_content=file.read()\n",
    "    \n",
    "soup=BeautifulSoup(html_content,\"html.parser\")\n",
    "\n",
    "article_element=soup.find(\"article\")\n",
    "\n",
    "article_text=article_element.get_text()\n",
    "\n",
    "sentiment = TextBlob(article_text).sentiment\n",
    "\n",
    "print(\"Sentiment Polarity Score:\", sentiment.polarity)\n",
    "\n",
    "sentences=article_text.split('.')\n",
    "num_sentences=len(sentences)\n",
    "\n",
    "print(\"Number of Sentences:\", num_sentences)\n"
   ]
  },
  {
   "cell_type": "markdown",
   "metadata": {},
   "source": [
    "3. Load the article text into a trained `spaCy` pipeline, and determine the 5 most frequent tokens (converted to lower case).  Print the common tokens with an appropriate label.  Additionally, print the tokens their frequencies (with appropriate labels)"
   ]
  },
  {
   "cell_type": "code",
   "execution_count": 24,
   "metadata": {},
   "outputs": [
    {
     "name": "stdout",
     "output_type": "stream",
     "text": [
      "Tokens and Their Frequencies :\n",
      "[('data', 133), ('ai', 72), ('science', 60), ('intelligence', 41), ('artificial', 33)]\n"
     ]
    }
   ],
   "source": [
    "nlp = spacy.load('en_core_web_sm')\n",
    "doc = nlp(article_element.get_text())\n",
    "from collections import Counter\n",
    "\n",
    "def important_token(token):\n",
    "    return not (token.is_space or token.is_punct or token.is_stop)\n",
    "\n",
    "interesting_tokens = [token.text.lower() for token in doc if important_token(token)]\n",
    "word_freq = Counter(map(str,interesting_tokens))\n",
    "common_token = (word_freq.most_common(5))\n",
    "\n",
    "print(\"Tokens and Their Frequencies :\")\n",
    "print(common_token)\n",
    "common_tokens = set()\n",
    "for token, freq in word_freq.most_common(5):\n",
    "    common_tokens.add(token)\n"
   ]
  },
  {
   "cell_type": "markdown",
   "metadata": {},
   "source": [
    "4. Load the article text into a trained `spaCy` pipeline, and determine the 5 most frequent lemmas (converted to lower case).  Print the common lemmas with an appropriate label.  Additionally, print the lemmas with their frequencies (with appropriate labels)."
   ]
  },
  {
   "cell_type": "code",
   "execution_count": 25,
   "metadata": {},
   "outputs": [
    {
     "name": "stdout",
     "output_type": "stream",
     "text": [
      "Lemmas Frequencies :\n",
      "[('datum', 87), ('ai', 72), ('science', 60), ('data', 46), ('intelligence', 41)]\n",
      "5 Most Frequent Lemmas  {'data', 'intelligence', 'ai', 'datum', 'science'}\n"
     ]
    }
   ],
   "source": [
    "common_lemmas = [token.lemma_.lower() for token in doc if important_token(token)]\n",
    "lemma_freq = Counter(common_lemmas)\n",
    "common_lemmas= lemma_freq.most_common(5)\n",
    "\n",
    "print(\"Lemmas Frequencies :\")\n",
    "print(common_lemmas)\n",
    "common_lemmas = set()\n",
    "for lemma, freq in lemma_freq.most_common(5):\n",
    "    common_lemmas.add(lemma)\n",
    "    \n",
    "print(\"5 Most Frequent Lemmas \", common_lemmas)"
   ]
  },
  {
   "cell_type": "markdown",
   "metadata": {},
   "source": [
    "5. Make a list containing the scores (using tokens) of every sentence in the article, and plot a histogram with appropriate titles and axis labels of the scores. From your histogram, what seems to be the most common range of scores (put the answer in a comment after your code)?"
   ]
  },
  {
   "cell_type": "code",
   "execution_count": 26,
   "metadata": {},
   "outputs": [
    {
     "data": {
      "image/png": "[encoded data removed]",
      "text/plain": [
       "<Figure size 640x480 with 1 Axes>"
      ]
     },
     "metadata": {},
     "output_type": "display_data"
    }
   ],
   "source": [
    "sentences = list(doc.sents)\n",
    "for sentence in sentences:\n",
    "    count1= 0\n",
    "    for token in sentence:\n",
    "        if token.text.lower() in common_tokens:\n",
    "            count1+= 1\n",
    "    count2 = 0\n",
    "    for token in sentence:\n",
    "        if not(token.is_space or token.is_punct):\n",
    "            count2 += 1\n",
    "    sent_str = str(sentence).replace('\\n','').replace('  ',' ')\n",
    "    \n",
    "tokenscores = []\n",
    "for sentence in sentences:\n",
    "    count1= 0\n",
    "    for token in sentence:\n",
    "        if token.text.lower() in common_tokens:\n",
    "            count1 += 1\n",
    "    count2 = 0\n",
    "    for token in sentence:\n",
    "        if not(token.is_space or token.is_punct):\n",
    "            count2 += 1\n",
    "    score = count1 / count2 if count2 > 0 else 0\n",
    "    tokenscores.append(score)\n",
    "\n",
    "plt.hist(tokenscores, color='red',edgecolor='black')\n",
    "plt.title('Token Scores Frequency')\n",
    "plt.xlabel('Score')\n",
    "plt.ylabel('Frequency')\n",
    "plt.show()"
   ]
  },
  {
   "cell_type": "markdown",
   "metadata": {},
   "source": [
    "6. Make a list containing the scores (using lemmas) of every sentence in the article, and plot a histogram with appropriate titles and axis labels of the scores.  From your histogram, what seems to be the most common range of scores (put the answer in a comment after your code)?"
   ]
  },
  {
   "cell_type": "code",
   "execution_count": 27,
   "metadata": {},
   "outputs": [
    {
     "data": {
      "image/png": "[encoded data removed]",
      "text/plain": [
       "<Figure size 640x480 with 1 Axes>"
      ]
     },
     "metadata": {},
     "output_type": "display_data"
    }
   ],
   "source": [
    "sentences = list(doc.sents)\n",
    "for sentence in sentences:\n",
    "    count1= 0\n",
    "    for lemma in sentence:\n",
    "        if lemma.lemma_.lower() in common_lemmas:\n",
    "            count1+= 1\n",
    "    count2 = 0\n",
    "    for lemma in sentence:\n",
    "        if not(lemma.is_space or lemma.is_punct):\n",
    "            count2 += 1\n",
    "    sent_str = str(sentence).replace('\\n','').replace('  ',' ')\n",
    "\n",
    "lemmascores = []\n",
    "\n",
    "for sentence in sentences:\n",
    "    count1 = 0\n",
    "    for token in sentence:\n",
    "        if token.lemma_.lower() in common_lemmas:\n",
    "            count1 += 1\n",
    "    \n",
    "    count2 = 0\n",
    "    for token in sentence:\n",
    "        if not (token.is_space or token.is_punct):\n",
    "            count2 += 1\n",
    "    \n",
    "\n",
    "    score = count1 / count2 if count2 > 0 else 0\n",
    "    lemmascores.append(score)\n",
    "\n",
    "plt.hist(lemmascores,color='gold',edgecolor='red')\n",
    "plt.title('Lemmas Score Frequency')\n",
    "plt.xlabel('Score')\n",
    "plt.ylabel('Frequency')\n",
    "plt.show()"
   ]
  },
  {
   "cell_type": "markdown",
   "metadata": {},
   "source": [
    "7. Using the histograms from questions 5 and 6, decide a \"cutoff\" score for tokens and lemmas such that fewer than half the sentences would have a score greater than the cutoff score.  Record the scores in this Markdown cell\n",
    "\n",
    "* Cutoff Score (tokens):0.25\n",
    "* Cutoff Score (lemmas): 0.25\n",
    "\n",
    "Feel free to change these scores as you generate your summaries.  Ideally, we're shooting for at least 6 sentences for our summary, but don't want more than 10 (these numbers are rough estimates; they depend on the length of your article)."
   ]
  },
  {
   "cell_type": "code",
   "execution_count": 28,
   "metadata": {},
   "outputs": [
    {
     "name": "stdout",
     "output_type": "stream",
     "text": [
      "Cutoff Score (tokens): 0.25900000000000034\n",
      "Cutoff Score (lemmas): 0.25\n"
     ]
    }
   ],
   "source": [
    "import numpy as np\n",
    "scores_array = np.array(tokenscores)\n",
    "cutoff_score_tokens = np.percentile(scores_array, 90)\n",
    "print(\"Cutoff Score (tokens):\", cutoff_score_tokens)\n",
    "\n",
    "import numpy as np\n",
    "scores_array = np.array(lemmascores)\n",
    "cutoff_score_lemmas = np.percentile(scores_array, 90)\n",
    "print(\"Cutoff Score (lemmas):\", cutoff_score_lemmas)"
   ]
  },
  {
   "cell_type": "markdown",
   "metadata": {},
   "source": [
    "8. Create a summary of the article by going through every sentence in the article and adding it to an (initially) empty list if its score (based on tokens) is greater than the cutoff score you identified in question 8.  If your loop variable is named `sent`, you may find it easier to add `sent.text.strip()` to your list of sentences.  Print the summary (I would cleanly generate the summary text by `join`ing the strings in your list together with a space (`' '.join(sentence_list)`)."
   ]
  },
  {
   "cell_type": "markdown",
   "metadata": {},
   "source": [
    "9. Print the polarity score of your summary you generated with the token scores (with an appropriate label). Additionally, print the number of sentences in the summarized article."
   ]
  },
  {
   "cell_type": "code",
   "execution_count": 29,
   "metadata": {},
   "outputs": [
    {
     "name": "stdout",
     "output_type": "stream",
     "text": [
      "Polarity Score: 0.47272727272727283\n",
      "Number of Sentences: 6\n"
     ]
    }
   ],
   "source": [
    "url = \"https://www.simplilearn.com/data-science-and-ai-article\"\n",
    "\n",
    "response = requests.get(url)\n",
    "\n",
    "soup = BeautifulSoup(response.content, \"html.parser\")\n",
    "\n",
    "paragraphs = soup.find_all(\"p\", class_=None)\n",
    "\n",
    "article_content = \"\\n\".join([p.text for p in paragraphs if p.text.strip()])  # Filter out empty paragraphs\n",
    "\n",
    "nlp = spacy.load('en_core_web_sm')\n",
    "\n",
    "doc = nlp(article_content)\n",
    "\n",
    "cutoff_score_tokens = 0.25\n",
    "\n",
    "summary_sentences = []\n",
    "\n",
    "for sent in doc.sents:\n",
    "    token_score = TextBlob(sent.text).sentiment.polarity\n",
    "    if token_score > cutoff_score_tokens:\n",
    "        summary_sentences.append(sent.text.strip())\n",
    "\n",
    "if len(summary_sentences) > 6:\n",
    "    summary_sentences = summary_sentences[:6]\n",
    "\n",
    "summary_blob = TextBlob(\" \".join(summary_sentences))\n",
    "summary_polarity_score = summary_blob.sentiment.polarity\n",
    "\n",
    "print(\"Polarity Score:\", summary_polarity_score)\n",
    "\n",
    "print(\"Number of Sentences:\", len(summary_sentences))"
   ]
  },
  {
   "cell_type": "markdown",
   "metadata": {},
   "source": [
    "10. Create a summary of the article by going through every sentence in the article and adding it to an (initially) empty list if its score (based on lemmas) is greater than the cutoff score you identified in question 8.  If your loop variable is named `sent`, you may find it easier to add `sent.text.strip()` to your list of sentences.  Print the summary (I would cleanly generate the summary text by `join`ing the strings in your list together with a space (`' '.join(sentence_list)`)."
   ]
  },
  {
   "cell_type": "code",
   "execution_count": 30,
   "metadata": {},
   "outputs": [
    {
     "name": "stdout",
     "output_type": "stream",
     "text": [
      "Summary:\n",
      "Trading algorithms powered by AI can sift through market data instantaneously, pinpointing opportunities for trades and conducting them swiftly and precisely.\n",
      "AI-powered self-driving cars utilize advanced sensors, computer vision, and ML algorithms to perceive their environment, recognize traffic signs, and respond to changing road conditions, enhancing road safety and efficiency.\n",
      "AI seeks to simulate human-like intelligence in machines to perform tasks autonomously, aligning with data science's broader goal of leveraging data to derive actionable insights.\n",
      "AI development often involves collaboration between data scientists, computer scientists, and domain experts to develop intelligent systems capable of autonomous decision-making.\n",
      "Thanks to the course teachers and others associated with designing such a wonderful learning experience.\n",
      "A.Anthony DavisSimplilearn has one of the best programs available online to earn real-world skills that are in demand worldwide.\n"
     ]
    }
   ],
   "source": [
    "url = \"https://www.simplilearn.com/data-science-and-ai-article\"\n",
    "\n",
    "response = requests.get(url)\n",
    "\n",
    "soup = BeautifulSoup(response.content, \"html.parser\")\n",
    "\n",
    "paragraphs = soup.find_all(\"p\", class_=None)\n",
    "\n",
    "article_content = \"\\n\".join([p.text for p in paragraphs if p.text.strip()])  \n",
    "\n",
    "nlp = spacy.load('en_core_web_sm')\n",
    "\n",
    "doc = nlp(article_content)\n",
    "\n",
    "cutoff_score_lemmas = 0.25\n",
    "\n",
    "summary_sentences = []\n",
    "\n",
    "for sent in doc.sents:\n",
    "    lemma_score = TextBlob(sent.text).sentiment.polarity\n",
    "    if lemma_score > cutoff_score_lemmas and len(summary_sentences) < 6:\n",
    "        summary_sentences.append(sent.text.strip())\n",
    "\n",
    "if len(summary_sentences) == 6:\n",
    "    print(\"Summary:\")\n",
    "    print('\\n'.join(summary_sentences))\n",
    "else:\n",
    "    print(\"Unable to generate a summary with exactly 6 sentences.\")"
   ]
  },
  {
   "cell_type": "markdown",
   "metadata": {},
   "source": [
    "11. Print the polarity score of your summary you generated with the lemma scores (with an appropriate label). Additionally, print the number of sentences in the summarized article."
   ]
  },
  {
   "cell_type": "code",
   "execution_count": 31,
   "metadata": {},
   "outputs": [
    {
     "name": "stdout",
     "output_type": "stream",
     "text": [
      "Polarity Score (Lemma Scores): 0.4733590733590733\n",
      "Number of Sentences: 19\n"
     ]
    }
   ],
   "source": [
    "doc = nlp(article_text)\n",
    "sentences = [sent.text.strip() for sent in doc.sents]\n",
    "\n",
    "your_cutoff_score = 0.25\n",
    "summary_sentences = []\n",
    "\n",
    "for sentence in sentences:\n",
    "    blob = TextBlob(sentence)\n",
    "    if blob.sentiment.polarity > your_cutoff_score:\n",
    "        summary_sentences.append(sentence)\n",
    "\n",
    "summary_text = ' '.join(summary_sentences)\n",
    "summary_blob = TextBlob(summary_text)\n",
    "summary_polarity_score = summary_blob.sentiment.polarity\n",
    "\n",
    "print(\"Polarity Score (Lemma Scores):\", summary_polarity_score)\n",
    "num_summary_sentences = len(summary_sentences)\n",
    "print(\"Number of Sentences:\", num_summary_sentences)"
   ]
  },
  {
   "cell_type": "markdown",
   "metadata": {},
   "source": [
    "12.  Compare your polarity scores of your summaries to the polarity scores of the initial article.  Is there a difference?  Why do you think that may or may not be?.  Answer in this Markdown cell.  \n",
    "\n",
    "Initial polarity score= 0.05\n",
    "summary polarity score= 0.47\n",
    "\n",
    "I indeed have a very very big difference and I believe it is becaUse somewhere on my summary code I may have not calculated it correctly because the summary polarity score apparently is almost ten times bigger then the initial polarity score also it could be that I chose the wrong cutoff score to use. "
   ]
  },
  {
   "cell_type": "markdown",
   "metadata": {},
   "source": [
    "13. Based on your reading of the original article, which summary do you think is better (if there's a difference).  Why do you think this might be?\n",
    "\n",
    "Personally I would say that the summary from the tokens would be better simply because it has less sentences because the Lemma score summary has 19 sentences."
   ]
  }
 ],
 "metadata": {
  "kernelspec": {
   "display_name": "Python 3 (ipykernel)",
   "language": "python",
   "name": "python3"
  },
  "language_info": {
   "codemirror_mode": {
    "name": "ipython",
    "version": 3
   },
   "file_extension": ".py",
   "mimetype": "text/x-python",
   "name": "python",
   "nbconvert_exporter": "python",
   "pygments_lexer": "ipython3",
   "version": "3.9.12"
  }
 },
 "nbformat": 4,
 "nbformat_minor": 4
}
